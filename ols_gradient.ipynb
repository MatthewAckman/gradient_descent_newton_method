{
 "cells": [
  {
   "cell_type": "markdown",
   "metadata": {},
   "source": [
    "## OLS vs gradient descent (no intercept)\n",
    "\n",
    "$$SSE = \\Sigma{(y_{i} - \\hat{y})^2} = \\Sigma{(y_{i} - \\beta_{1}x_{i})^2}$$\n",
    "\n",
    "$$\\dfrac{\\partial{SSE}}{\\partial{\\beta_{1}}} = -2x_{1}\\Sigma{(y_{i} - \\beta_{1}x_{i})} =-2\\Sigma{y_{i}x_{i}} + 2\\beta_{1}\\Sigma{x_{i}^2}$$\n",
    "\n",
    "$$\\dfrac{\\partial^2{SSE}}{\\partial{\\beta_{1}}^2} = 2\\Sigma{x_{1}^2}$$\n",
    "\n",
    "GD coef updating formula\n",
    "$$\\beta_{1, i} = \\beta_{1, i-1} - \\alpha \\dfrac{\\partial{SSE}}{\\partial{\\beta_{1,i-1}}}$$\n",
    "\n",
    "Newton coef update formula\n",
    "$$\\beta_{1, i} = \\beta_{1, i-1} - \\dfrac{f'(x)}{f''(x)} = \\beta_{1, i-1} - \\dfrac{-2\\Sigma{y_{i}x_{i}} + 2\\beta_{1, i-1}\\Sigma{x_{i}^2}}{2\\Sigma{x_{1}^2}}$$"
   ]
  },
  {
   "cell_type": "code",
   "execution_count": 480,
   "metadata": {},
   "outputs": [],
   "source": [
    "import pandas as pd\n",
    "import numpy as np\n",
    "import seaborn as sns\n",
    "import matplotlib.pyplot as plt\n",
    "import statsmodels.api as sm\n",
    "plt.style.use('seaborn')\n",
    "\n",
    "import warnings\n",
    "warnings.filterwarnings(\"ignore\")\n",
    "\n",
    "df = sns.load_dataset('diamonds')\n",
    "df['ln_price'] = df.price.apply(np.log)  # lhs var is ln price\n"
   ]
  },
  {
   "cell_type": "code",
   "execution_count": 481,
   "metadata": {},
   "outputs": [
    {
     "name": "stdout",
     "output_type": "stream",
     "text": [
      "beta = 7.726975499243918, canned OLS\n"
     ]
    }
   ],
   "source": [
    "## Canned OLS\n",
    "\n",
    "beta = sm.OLS(endog=df.ln_price, exog=df.carat).fit().params.carat\n",
    "\n",
    "print(f'beta = {beta}, canned OLS')"
   ]
  },
  {
   "cell_type": "code",
   "execution_count": 482,
   "metadata": {},
   "outputs": [
    {
     "name": "stdout",
     "output_type": "stream",
     "text": [
      "beta = 7.726975499244868, number of iterations = 2\n"
     ]
    }
   ],
   "source": [
    "## Newton method\n",
    "\n",
    "beta = 0  # initial guess\n",
    "gap = 1\n",
    "tol = 2.2204e-16\n",
    "it = 0\n",
    "\n",
    "def fd(y,x,beta):\n",
    "    '''first derivative'''\n",
    "    return  -2*(y * x).sum() + 2*beta*sum(x**2)\n",
    "\n",
    "def sd(x):\n",
    "    '''second derivative'''\n",
    "    return 2 * (x**2).sum()\n",
    "\n",
    "while gap > tol:\n",
    "    beta_new = beta - fd(y,x,beta)/sd(x)\n",
    "    gap = beta_new - beta\n",
    "    beta = beta_new\n",
    "    it += 1\n",
    "\n",
    "print(f'beta = {beta}, number of iterations = {it-1}')"
   ]
  },
  {
   "cell_type": "code",
   "execution_count": 483,
   "metadata": {},
   "outputs": [
    {
     "data": {
      "text/plain": [
       "<AxesSubplot:title={'center':'SSE'}, xlabel='b1'>"
      ]
     },
     "execution_count": 483,
     "metadata": {},
     "output_type": "execute_result"
    },
    {
     "data": {
      "image/png": "[encoded data removed]",
      "text/plain": [
       "<Figure size 576x396 with 1 Axes>"
      ]
     },
     "metadata": {},
     "output_type": "display_data"
    }
   ],
   "source": [
    "## Plot SSE -->  sum( (Y - (beta*X))**2  )\n",
    "# iterate over beta1 values between -10 and 20, calculate SSE each iter and plot\n",
    "# plot is minimized ~7.7, ie confirming OLS and newton method\n",
    "\n",
    "y, x = df.ln_price, df.carat\n",
    "sse = [sum((y - beta*x)**2) for beta in np.arange(-10,20,0.1)]\n",
    "pd.DataFrame(sse, index=np.arange(-10,20,0.1)).plot(title='SSE',xlabel='b1')"
   ]
  },
  {
   "cell_type": "code",
   "execution_count": 484,
   "metadata": {},
   "outputs": [
    {
     "name": "stdout",
     "output_type": "stream",
     "text": [
      "alpha=1, initial beta = -5, final beta = 7.726975499244866\n",
      "alpha=1, initial beta = -1, final beta = 7.726975499244866\n",
      "alpha=1, initial beta = 0, final beta = 7.726975499244866\n",
      "alpha=1, initial beta = 1, final beta = 7.726975499244866\n",
      "alpha=1, initial beta = 5, final beta = 7.726975499244868\n",
      "alpha=0.1, initial beta = -5, final beta = 7.726975499244865\n",
      "alpha=0.1, initial beta = -1, final beta = 7.726975499244865\n",
      "alpha=0.1, initial beta = 0, final beta = 7.726975499244865\n",
      "alpha=0.1, initial beta = 1, final beta = 7.726975499244865\n",
      "alpha=0.1, initial beta = 5, final beta = 7.726975499244865\n",
      "alpha=0.01, initial beta = -5, final beta = 7.726975499244843\n",
      "alpha=0.01, initial beta = -1, final beta = 7.726975499244843\n",
      "alpha=0.01, initial beta = 0, final beta = 7.726975499244843\n",
      "alpha=0.01, initial beta = 1, final beta = 7.726975499244843\n",
      "alpha=0.01, initial beta = 5, final beta = 7.726975499244843\n",
      "alpha=0.001, initial beta = -5, final beta = 7.724681842781127\n",
      "alpha=0.001, initial beta = -1, final beta = 7.725402723076344\n",
      "alpha=0.001, initial beta = 0, final beta = 7.725582943150133\n",
      "alpha=0.001, initial beta = 1, final beta = 7.725763163223928\n",
      "alpha=0.001, initial beta = 5, final beta = 7.726484043519137\n"
     ]
    }
   ],
   "source": [
    "## Gradient descent\n",
    "\n",
    "# 5000 epochs, try combinations of alpha and initial beta\n",
    "# 5*5*5000 = 125,000 total iterations\n",
    "# in python, x -= y is equivelant to x = x - y, etc.\n",
    "\n",
    "y,x = df.ln_price, df.carat\n",
    "niters = int(5E3)\n",
    "\n",
    "for alpha in [1, 0.1, 0.01, 0.001]:        # try various alpha params\n",
    "    for beta in [-5,-1,0,1,5]:             # try various initial beta guesses\n",
    "        beta_i = beta                      # save initial beta value for log\n",
    "        for i in range(niters):            # iterate through 5000 epochs\n",
    "            beta -= alpha*fd(y,x,beta)/len(y)\n",
    "\n",
    "        print(f'{alpha=}, initial beta = {beta_i}, final beta = {beta}')\n",
    "\n"
   ]
  },
  {
   "cell_type": "code",
   "execution_count": null,
   "metadata": {},
   "outputs": [],
   "source": []
  }
 ],
 "metadata": {
  "interpreter": {
   "hash": "c88f98d85183201d551d25e949bd598d1adc278b48bf64b985bf54ed90e6305d"
  },
  "kernelspec": {
   "display_name": "Python 3.8.8 64-bit ('base': conda)",
   "name": "python3"
  },
  "language_info": {
   "codemirror_mode": {
    "name": "ipython",
    "version": 3
   },
   "file_extension": ".py",
   "mimetype": "text/x-python",
   "name": "python",
   "nbconvert_exporter": "python",
   "pygments_lexer": "ipython3",
   "version": "3.8.8"
  },
  "orig_nbformat": 4
 },
 "nbformat": 4,
 "nbformat_minor": 2
}
